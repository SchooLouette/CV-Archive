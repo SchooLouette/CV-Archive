{
  "nbformat": 4,
  "nbformat_minor": 0,
  "metadata": {
    "colab": {
      "provenance": [],
      "collapsed_sections": [
        "cLfTTGPyomuV",
        "gT9xl3TGnOPN"
      ],
      "authorship_tag": "ABX9TyNI/8bvYFiMwBoPgfHoHz1N",
      "include_colab_link": true
    },
    "kernelspec": {
      "name": "python3",
      "display_name": "Python 3"
    },
    "language_info": {
      "name": "python"
    }
  },
  "cells": [
    {
      "cell_type": "markdown",
      "metadata": {
        "id": "view-in-github",
        "colab_type": "text"
      },
      "source": [
        "<a href=\"https://colab.research.google.com/github/SchooLouette/CV-Archive/blob/main/CV%2012-22-23.ipynb\" target=\"_parent\"><img src=\"https://colab.research.google.com/assets/colab-badge.svg\" alt=\"Open In Colab\"/></a>"
      ]
    },
    {
      "cell_type": "markdown",
      "source": [
        "# <font size = 5, color = lightgray> Main"
      ],
      "metadata": {
        "id": "cLfTTGPyomuV"
      }
    },
    {
      "cell_type": "code",
      "execution_count": null,
      "metadata": {
        "id": "_NU39dFVl9f2"
      },
      "outputs": [],
      "source": []
    },
    {
      "cell_type": "markdown",
      "source": [
        "# <font size = 5, color = lightgray> Reference"
      ],
      "metadata": {
        "id": "gT9xl3TGnOPN"
      }
    },
    {
      "cell_type": "markdown",
      "source": [
        "[\"E\" - image](https://static.wikia.nocookie.net/unofficial-alphabet-lore/images/f/fa/E.png/revision/latest?cb=20221018213317)\n"
      ],
      "metadata": {
        "id": "LSrDMHd9mRGn"
      }
    }
  ]
}